{
 "cells": [
  {
   "cell_type": "markdown",
   "id": "1f98e420",
   "metadata": {},
   "source": [
    "# Big Data in Law Enforcement"
   ]
  },
  {
   "cell_type": "markdown",
   "id": "5937a5aa",
   "metadata": {},
   "source": [
    "## Introduction\n",
    "Big Data is a collection of amount structured and unstructured information which arrives at high speed. \n",
    "Cyber security protects this data, networks and programs from malicious attacks."
   ]
  },
  {
   "cell_type": "markdown",
   "id": "42b58740",
   "metadata": {},
   "source": [
    "**Objectives**\n",
    "\n",
    "- Introduction to Big Data/Cyber Security.\n",
    "- List popular languages for Data Science.\n",
    "- Commonly used libraries for Data Scientists.\n",
    "- Create a markdown cell with a table of Data Science tools.\n",
    "- Examples for calculating arithmetic expressions."
   ]
  },
  {
   "cell_type": "markdown",
   "id": "92867df1",
   "metadata": {},
   "source": [
    "*Some of the popular languages that Data Scientists use are:*\n",
    "1. Python\n",
    "2. SQL\n",
    "3. Java\n",
    "4. Scala\n",
    "5. R"
   ]
  },
  {
   "cell_type": "markdown",
   "id": "86a2494c",
   "metadata": {},
   "source": [
    "*Some of the commonly used libraries by Data Scientists include:*\n",
    "- NumPy\n",
    "- Pandas\n",
    "- Matplotlib\n",
    "- Seaborn\n",
    "- Scikit-learn"
   ]
  },
  {
   "cell_type": "markdown",
   "id": "254bdc14",
   "metadata": {},
   "source": [
    "| Data Science Tools |\n",
    "|-------------------|\n",
    "| Jupyter Notebook |\n",
    "| Visual Studio Code |\n",
    "| RStudio |"
   ]
  },
  {
   "cell_type": "markdown",
   "id": "b1cb62bb",
   "metadata": {},
   "source": [
    "### Below are a few examples of evaluating arithmetic expressions in Python."
   ]
  },
  {
   "cell_type": "code",
   "execution_count": 2,
   "id": "cfd78bae",
   "metadata": {},
   "outputs": [
    {
     "data": {
      "text/plain": [
       "13"
      ]
     },
     "execution_count": 2,
     "metadata": {},
     "output_type": "execute_result"
    }
   ],
   "source": [
    "3 + 5 * 2"
   ]
  },
  {
   "cell_type": "code",
   "execution_count": 3,
   "id": "f2666b15",
   "metadata": {},
   "outputs": [
    {
     "name": "stdout",
     "output_type": "stream",
     "text": [
      "8\n"
     ]
    }
   ],
   "source": [
    "x = 3\n",
    "y = 5\n",
    "result = x + y\n",
    "print(result)"
   ]
  },
  {
   "cell_type": "code",
   "execution_count": 4,
   "id": "ba5e8eaf",
   "metadata": {},
   "outputs": [
    {
     "name": "stdout",
     "output_type": "stream",
     "text": [
      "33\n"
     ]
    }
   ],
   "source": [
    "# This is a simple arithmetic expression\n",
    "result = (4 * 6) + 9\n",
    "print(result)"
   ]
  },
  {
   "cell_type": "code",
   "execution_count": 5,
   "id": "474993a0",
   "metadata": {},
   "outputs": [
    {
     "name": "stdout",
     "output_type": "stream",
     "text": [
      "5.0\n"
     ]
    }
   ],
   "source": [
    "# This will convert 300 minutes to hours by dividing by 60\n",
    "m = 300\n",
    "h = m / 60\n",
    "print(h)"
   ]
  },
  {
   "cell_type": "markdown",
   "id": "fa9d5e81",
   "metadata": {},
   "source": [
    "## Author\n",
    "Nazarova Akbota CS-2105"
   ]
  },
  {
   "cell_type": "code",
   "execution_count": null,
   "id": "88da490e",
   "metadata": {},
   "outputs": [],
   "source": []
  }
 ],
 "metadata": {
  "kernelspec": {
   "display_name": "Python 3 (ipykernel)",
   "language": "python",
   "name": "python3"
  },
  "language_info": {
   "codemirror_mode": {
    "name": "ipython",
    "version": 3
   },
   "file_extension": ".py",
   "mimetype": "text/x-python",
   "name": "python",
   "nbconvert_exporter": "python",
   "pygments_lexer": "ipython3",
   "version": "3.9.12"
  }
 },
 "nbformat": 4,
 "nbformat_minor": 5
}
